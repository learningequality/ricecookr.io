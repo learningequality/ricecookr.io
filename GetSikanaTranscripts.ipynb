{
 "cells": [
  {
   "cell_type": "code",
   "execution_count": 1,
   "metadata": {},
   "outputs": [],
   "source": [
    "import yaml\n",
    "import requests\n",
    "\n",
    "with open(\"credentials/parameters.yml\", \"r\") as f:\n",
    "    parameters = yaml.load(f)\n",
    "\n",
    "SIKANA_CLIENT_ID = parameters[\"api\"][\"client_id\"]\n",
    "SIKANA_SECRET = parameters[\"api\"][\"secret\"]"
   ]
  },
  {
   "cell_type": "code",
   "execution_count": 2,
   "metadata": {},
   "outputs": [],
   "source": [
    "from sikana_api import SikanaApi\n",
    "\n",
    "sikana_api = SikanaApi(\n",
    "        SIKANA_CLIENT_ID,\n",
    "        SIKANA_SECRET\n",
    "    )"
   ]
  },
  {
   "cell_type": "code",
   "execution_count": 3,
   "metadata": {},
   "outputs": [
    {
     "name": "stdout",
     "output_type": "stream",
     "text": [
      "lang= en\n",
      "DESCRIPTION\n",
      "===========\n",
      "Thousands of skills in your pocket. Improve your life and the world around you through practical learning. Join our community. Make an impact. \n",
      "\n",
      "\n",
      "\n",
      "lang= fr\n",
      "DESCRIPTION\n",
      "===========\n",
      "Des milliers de savoir-faire à portée de main. Améliorez votre vie et le monde qui vous entoure par la connaissance pratique. Rejoignez l'aventure.\n",
      "\n",
      "\n",
      "\n",
      "lang= es\n",
      "DESCRIPTION\n",
      "===========\n",
      "Millones de lecciones prácticas al alcance de tu mano. Mejora tu vida y la de quienes te rodean. Únete a la aventura.\n",
      "\n",
      "\n",
      "\n",
      "lang= pt\n",
      "DESCRIPTION\n",
      "===========\n",
      "Você tem milhares de habilidades. Melhore a vida das pessoas a seu redor por meio do aprendizado prático. Faça parte da nossa comunidade. Faça a diferença.\n",
      "\n",
      "\n",
      "\n",
      "lang= pt-br\n",
      "DESCRIPTION\n",
      "===========\n",
      "Você tem milhares de habilidades. Melhore a vida das pessoas a seu redor por meio do aprendizado prático. Faça parte da nossa comunidade. Faça a diferença.\n",
      "\n",
      "\n",
      "\n",
      "lang= pl\n",
      "DESCRIPTION\n",
      "===========\n",
      "Tysiące umiejętności na wyciągnięcie ręki. Wzbogać swoje życie i świat wokół dzięki praktycznej wiedzy. Dołącz do naszej społeczności.\n",
      "\n",
      "\n",
      "\n",
      "lang= tr\n",
      "DESCRIPTION\n",
      "===========\n",
      "Binlerce beceri cebinizde. Pratik bilgilerle kendi veya etrafındakilerin yaşamını iyileştir. Topluluğumuza katıl. Etki yarat.\n",
      "\n",
      "\n",
      "\n",
      "lang= ru\n",
      "DESCRIPTION\n",
      "===========\n",
      "Уникальная возможность научиться множеству вещей. Овладей новыми навыками, чтобы изменить свою жизнь и окружающий мир к лучшему. Стань частью нашего сообщества. Начни заниматься действительно важным делом.\n",
      "\n",
      "\n",
      "\n",
      "lang= zh\n",
      "DESCRIPTION\n",
      "===========\n",
      "在您的口袋里收获成千上万的实用技能。通过学习来改善您的生活和周围世界。加入我们的社区。扩大自己的社会影响力。\n",
      "\n",
      "\n",
      "\n",
      "lang= zh-tw\n",
      "DESCRIPTION\n",
      "===========\n",
      "在您的口袋里收获成千上万的实用技能。通过学习来改善您的生活和周围世界。加入我们的社区。扩大自己的社会影响力。\n",
      "\n",
      "\n",
      "\n",
      "lang= ar\n",
      "DESCRIPTION\n",
      "===========\n",
      "الآلاف من المهارات في جيبك. تحسين حياتك والعالم من حولك من خلال التعلم العملي. انضم إلى مجتمعنا. أن يكون لها تأثير.\n",
      "\n",
      "\n",
      "\n"
     ]
    }
   ],
   "source": [
    "from sushichef import SIKANA_LANGUAGES\n",
    "\n",
    "for lang in SIKANA_LANGUAGES:\n",
    "    print('lang=', lang)\n",
    "    print('DESCRIPTION')\n",
    "    print('===========')\n",
    "    print(sikana_api.get_channel_description(lang))\n",
    "    print('\\n\\n')\n",
    "    "
   ]
  },
  {
   "cell_type": "code",
   "execution_count": 4,
   "metadata": {
    "scrolled": false
   },
   "outputs": [
    {
     "name": "stdout",
     "output_type": "stream",
     "text": [
      "lang= en\n",
      "{'health': 'Health', 'nature': 'Nature', 'food': 'Food', 'art': 'Art', 'housing': 'Housing', 'music': 'Music', 'sport': 'Sports', 'handicraft': 'Handicrafts'}\n",
      "1 {'id': 1, 'name': 'cooking', 'localizedName': 'Cooking'}\n",
      "2 {'id': 2, 'name': 'art', 'localizedName': 'Art'}\n",
      "3 {'id': 3, 'name': 'diy', 'localizedName': 'DIY'}\n",
      "4 {'id': 4, 'name': 'nature', 'localizedName': 'Nature'}\n",
      "5 {'id': 5, 'name': 'health', 'localizedName': 'Health'}\n",
      "6 {'id': 6, 'name': 'sport', 'localizedName': 'Sport'}\n",
      "\n",
      "\n",
      "\n",
      "lang= fr\n",
      "{'health': 'Santé', 'nature': 'Nature', 'food': 'Alimentation', 'art': 'Art', 'housing': 'Habitat', 'music': 'Musique', 'sport': 'Sport', 'beauty': 'Beauté'}\n",
      "1 {'id': 1, 'name': 'cooking', 'localizedName': 'Cuisine'}\n",
      "2 {'id': 2, 'name': 'art', 'localizedName': 'Art'}\n",
      "3 {'id': 3, 'name': 'diy', 'localizedName': 'Bricolage'}\n",
      "4 {'id': 4, 'name': 'nature', 'localizedName': 'Nature'}\n",
      "5 {'id': 5, 'name': 'health', 'localizedName': 'Santé'}\n",
      "6 {'id': 6, 'name': 'sport', 'localizedName': 'Sport'}\n",
      "\n",
      "\n",
      "\n",
      "lang= es\n",
      "{'health': 'Salud', 'nature': 'Naturaleza', 'food': 'Alimentación', 'art': 'Arte', 'housing': 'Hogar', 'music': 'Música', 'sport': 'Deporte', 'handicraft': 'Artesanía'}\n",
      "1 {'id': 1, 'name': 'cooking', 'localizedName': 'Gastronomía'}\n",
      "2 {'id': 2, 'name': 'art', 'localizedName': 'Arte'}\n",
      "3 {'id': 3, 'name': 'diy', 'localizedName': 'Házlo tú mismo - DIY'}\n",
      "4 {'id': 4, 'name': 'nature', 'localizedName': 'Naturaleza'}\n",
      "5 {'id': 5, 'name': 'health', 'localizedName': 'Salud'}\n",
      "6 {'id': 6, 'name': 'sport', 'localizedName': 'Deporte'}\n",
      "\n",
      "\n",
      "\n",
      "lang= pt\n",
      "{'health': 'Saúde', 'nature': 'Natureza', 'food': 'Alimentação', 'art': 'Arte', 'housing': 'Habitação', 'sport': 'Esportes', 'handicraft': 'Artesanato', 'beauty': 'Beleza'}\n",
      "1 {'id': 1, 'name': 'cooking', 'localizedName': 'Gastronomia'}\n",
      "2 {'id': 2, 'name': 'art', 'localizedName': 'Arte'}\n",
      "3 {'id': 3, 'name': 'diy', 'localizedName': 'Faça você mesmo'}\n",
      "4 {'id': 4, 'name': 'nature', 'localizedName': 'Natureza'}\n",
      "5 {'id': 5, 'name': 'health', 'localizedName': 'Saúde'}\n",
      "6 {'id': 6, 'name': 'sport', 'localizedName': 'Esportes'}\n",
      "\n",
      "\n",
      "\n",
      "lang= pt-br\n",
      "{'health': 'Saúde', 'nature': 'Natureza', 'food': 'Alimentação', 'art': 'Arte', 'housing': 'Habitação', 'sport': 'Esportes', 'handicraft': 'Artesanato', 'beauty': 'Beleza'}\n",
      "1 {'id': 1, 'name': 'cooking', 'localizedName': 'Gastronomia'}\n",
      "2 {'id': 2, 'name': 'art', 'localizedName': 'Arte'}\n",
      "3 {'id': 3, 'name': 'diy', 'localizedName': 'Faça você mesmo'}\n",
      "4 {'id': 4, 'name': 'nature', 'localizedName': 'Natureza'}\n",
      "5 {'id': 5, 'name': 'health', 'localizedName': 'Saúde'}\n",
      "6 {'id': 6, 'name': 'sport', 'localizedName': 'Esportes'}\n",
      "\n",
      "\n",
      "\n",
      "lang= pl\n",
      "{'health': 'Zdrowie', 'nature': 'Natura', 'food': 'Jedzenie', 'art': 'Sztuka', 'housing': 'Mieszkanie', 'music': 'Muzyka', 'sport': 'Sport', 'handicraft': 'Rzemiosło', 'beauty': 'Piękno'}\n",
      "1 {'id': 1, 'name': 'cooking', 'localizedName': 'Jedzenie'}\n",
      "2 {'id': 2, 'name': 'art', 'localizedName': 'Sztuka'}\n",
      "3 {'id': 3, 'name': 'diy', 'localizedName': 'DIY'}\n",
      "4 {'id': 4, 'name': 'nature', 'localizedName': 'Natura'}\n",
      "5 {'id': 5, 'name': 'health', 'localizedName': 'Zdrowie'}\n",
      "6 {'id': 6, 'name': 'sport', 'localizedName': 'Sport'}\n",
      "\n",
      "\n",
      "\n",
      "lang= tr\n",
      "{'health': 'Sağlıklı Yaşam', 'nature': 'Doğa', 'food': 'Yiyecek-İçecek', 'art': 'Sanat', 'housing': 'Konaklama', 'music': 'Müzik', 'sport': 'Spor', 'handicraft': 'El Sanatları', 'beauty': 'Güzellik'}\n",
      "1 {'id': 1, 'name': 'cooking', 'localizedName': 'Yiyecek-İçecek'}\n",
      "2 {'id': 2, 'name': 'art', 'localizedName': 'Sanat'}\n",
      "3 {'id': 3, 'name': 'diy', 'localizedName': 'DIY'}\n",
      "4 {'id': 4, 'name': 'nature', 'localizedName': 'Doğa'}\n",
      "5 {'id': 5, 'name': 'health', 'localizedName': 'Sağlıklı Yaşam'}\n",
      "6 {'id': 6, 'name': 'sport', 'localizedName': 'Spor'}\n",
      "\n",
      "\n",
      "\n",
      "lang= ru\n",
      "{'health': 'Здоровье', 'nature': 'Природа', 'food': 'Еда', 'art': 'Искусство', 'housing': 'Жилище ', 'music': 'Музыка', 'sport': 'Спорт', 'handicraft': 'Ремёсла', 'beauty': 'Красота'}\n",
      "1 {'id': 1, 'name': 'cooking', 'localizedName': 'Еда'}\n",
      "2 {'id': 2, 'name': 'art', 'localizedName': 'Искусство'}\n",
      "3 {'id': 3, 'name': 'diy', 'localizedName': 'DIY'}\n",
      "4 {'id': 4, 'name': 'nature', 'localizedName': 'Природа'}\n",
      "5 {'id': 5, 'name': 'health', 'localizedName': 'Здоровье'}\n",
      "6 {'id': 6, 'name': 'sport', 'localizedName': 'Спорт'}\n",
      "\n",
      "\n",
      "\n",
      "lang= zh\n",
      "{'health': '健康', 'nature': '自然', 'food': '烹饪', 'art': '艺术', 'housing': '装修建筑', 'music': '音乐', 'sport': '运动', 'handicraft': '手工艺', 'beauty': '美容'}\n",
      "1 {'id': 1, 'name': 'cooking', 'localizedName': '烹饪'}\n",
      "2 {'id': 2, 'name': 'art', 'localizedName': '艺术'}\n",
      "3 {'id': 3, 'name': 'diy', 'localizedName': '装修家居'}\n",
      "4 {'id': 4, 'name': 'nature', 'localizedName': '自然'}\n",
      "5 {'id': 5, 'name': 'health', 'localizedName': '健康'}\n",
      "6 {'id': 6, 'name': 'sport', 'localizedName': '运动'}\n",
      "\n",
      "\n",
      "\n",
      "lang= zh-tw\n",
      "{}\n",
      "coundnt find transaltion for cooking so returning default __Cooking\n",
      "coundnt find transaltion for art so returning default __Art\n",
      "coundnt find transaltion for nature so returning default __Nature\n",
      "coundnt find transaltion for health so returning default __Health\n",
      "coundnt find transaltion for sport so returning default __Sport\n",
      "1 {'id': 1, 'name': 'cooking', 'localizedName': 'Cooking'}\n",
      "2 {'id': 2, 'name': 'art', 'localizedName': 'Art'}\n",
      "3 {'id': 3, 'name': 'diy', 'localizedName': 'DIY'}\n",
      "4 {'id': 4, 'name': 'nature', 'localizedName': 'Nature'}\n",
      "5 {'id': 5, 'name': 'health', 'localizedName': 'Health'}\n",
      "6 {'id': 6, 'name': 'sport', 'localizedName': 'Sport'}\n",
      "\n",
      "\n",
      "\n",
      "lang= ar\n",
      "{'health': 'الصحة', 'food': 'الغذاء', 'art': 'الفن'}\n",
      "coundnt find transaltion for nature so returning default __Nature\n",
      "coundnt find transaltion for sport so returning default __Sport\n",
      "1 {'id': 1, 'name': 'cooking', 'localizedName': 'الغذاء'}\n",
      "2 {'id': 2, 'name': 'art', 'localizedName': 'الفن'}\n",
      "3 {'id': 3, 'name': 'diy', 'localizedName': 'DIY'}\n",
      "4 {'id': 4, 'name': 'nature', 'localizedName': 'Nature'}\n",
      "5 {'id': 5, 'name': 'health', 'localizedName': 'الصحة'}\n",
      "6 {'id': 6, 'name': 'sport', 'localizedName': 'Sport'}\n",
      "\n",
      "\n",
      "\n"
     ]
    }
   ],
   "source": [
    "from sushichef import SIKANA_LANGUAGES\n",
    "\n",
    "for lang in SIKANA_LANGUAGES:\n",
    "    print('lang=', lang)\n",
    "    categories = sikana_api.get_categories(lang)\n",
    "\n",
    "    for key, cat in categories[\"categories\"].items():\n",
    "        print(key, cat)\n",
    "\n",
    "    print('\\n\\n')"
   ]
  },
  {
   "cell_type": "code",
   "execution_count": null,
   "metadata": {},
   "outputs": [],
   "source": []
  },
  {
   "cell_type": "code",
   "execution_count": null,
   "metadata": {},
   "outputs": [],
   "source": []
  },
  {
   "cell_type": "code",
   "execution_count": null,
   "metadata": {},
   "outputs": [],
   "source": []
  },
  {
   "cell_type": "code",
   "execution_count": null,
   "metadata": {},
   "outputs": [],
   "source": []
  },
  {
   "cell_type": "code",
   "execution_count": null,
   "metadata": {
    "scrolled": true
   },
   "outputs": [],
   "source": [
    "video = sikana_api.get_video('pt-br', 'road-safety-before-taking-the-wheel')\n",
    "video"
   ]
  },
  {
   "cell_type": "code",
   "execution_count": null,
   "metadata": {},
   "outputs": [],
   "source": [
    "from sushichef import get_video_transcript\n",
    "get_video_transcript('pt-br', video)"
   ]
  },
  {
   "cell_type": "code",
   "execution_count": null,
   "metadata": {},
   "outputs": [],
   "source": [
    "!open ."
   ]
  },
  {
   "cell_type": "code",
   "execution_count": null,
   "metadata": {},
   "outputs": [],
   "source": [
    "json_tree_path = 'chefdata/trees/ricecooker_json_tree_ar.json'\n",
    "from sushichef import _remove_empty_topic_nodes"
   ]
  },
  {
   "cell_type": "code",
   "execution_count": null,
   "metadata": {},
   "outputs": [],
   "source": [
    "_remove_empty_topic_nodes(json_tree_path)"
   ]
  },
  {
   "cell_type": "code",
   "execution_count": null,
   "metadata": {},
   "outputs": [],
   "source": [
    "def get_channel_description(language_code):\n",
    "    sikana_lang_homepage_url = base_url + language_code\n",
    "    html = requests.get(sikana_lang_homepage_url).text\n",
    "    page = BeautifulSoup(html, 'html5lib')\n",
    "    # print(page)\n",
    "    return page\n"
   ]
  },
  {
   "cell_type": "code",
   "execution_count": null,
   "metadata": {},
   "outputs": [],
   "source": [
    "00\n"
   ]
  },
  {
   "cell_type": "code",
   "execution_count": null,
   "metadata": {},
   "outputs": [],
   "source": []
  },
  {
   "cell_type": "code",
   "execution_count": null,
   "metadata": {},
   "outputs": [],
   "source": []
  }
 ],
 "metadata": {
  "kernelspec": {
   "display_name": "Python 3",
   "language": "python",
   "name": "python3"
  },
  "language_info": {
   "codemirror_mode": {
    "name": "ipython",
    "version": 3
   },
   "file_extension": ".py",
   "mimetype": "text/x-python",
   "name": "python",
   "nbconvert_exporter": "python",
   "pygments_lexer": "ipython3",
   "version": "3.6.5"
  }
 },
 "nbformat": 4,
 "nbformat_minor": 2
}
